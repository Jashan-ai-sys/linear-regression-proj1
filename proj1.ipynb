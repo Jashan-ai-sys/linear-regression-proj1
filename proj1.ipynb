{
 "cells": [
  {
   "cell_type": "code",
   "execution_count": 32,
   "id": "bb1a2f31",
   "metadata": {},
   "outputs": [
    {
     "name": "stdout",
     "output_type": "stream",
     "text": [
      "<class 'pandas.core.frame.DataFrame'>\n",
      "RangeIndex: 19237 entries, 0 to 19236\n",
      "Data columns (total 18 columns):\n",
      " #   Column            Non-Null Count  Dtype  \n",
      "---  ------            --------------  -----  \n",
      " 0   ID                19237 non-null  int64  \n",
      " 1   Price             19237 non-null  int64  \n",
      " 2   Levy              19237 non-null  object \n",
      " 3   Manufacturer      19237 non-null  object \n",
      " 4   Model             19237 non-null  object \n",
      " 5   Prod. year        19237 non-null  int64  \n",
      " 6   Category          19237 non-null  object \n",
      " 7   Leather interior  19237 non-null  object \n",
      " 8   Fuel type         19237 non-null  object \n",
      " 9   Engine volume     19237 non-null  object \n",
      " 10  Mileage           19237 non-null  object \n",
      " 11  Cylinders         19237 non-null  float64\n",
      " 12  Gear box type     19237 non-null  object \n",
      " 13  Drive wheels      19237 non-null  object \n",
      " 14  Doors             19237 non-null  object \n",
      " 15  Wheel             19237 non-null  object \n",
      " 16  Color             19237 non-null  object \n",
      " 17  Airbags           19237 non-null  int64  \n",
      "dtypes: float64(1), int64(4), object(13)\n",
      "memory usage: 2.6+ MB\n"
     ]
    }
   ],
   "source": [
    "import numpy as np\n",
    "import pandas as pd\n",
    "data=pd.read_csv('car_price_prediction.csv')\n",
    "data.head()\n",
    "data.info()\n"
   ]
  },
  {
   "cell_type": "code",
   "execution_count": 33,
   "id": "d09ec9bf",
   "metadata": {},
   "outputs": [
    {
     "name": "stdout",
     "output_type": "stream",
     "text": [
      "ID                  0\n",
      "Price               0\n",
      "Levy                0\n",
      "Manufacturer        0\n",
      "Model               0\n",
      "Prod. year          0\n",
      "Category            0\n",
      "Leather interior    0\n",
      "Fuel type           0\n",
      "Engine volume       0\n",
      "Mileage             0\n",
      "Cylinders           0\n",
      "Gear box type       0\n",
      "Drive wheels        0\n",
      "Doors               0\n",
      "Wheel               0\n",
      "Color               0\n",
      "Airbags             0\n",
      "dtype: int64\n",
      "313\n",
      "0\n"
     ]
    }
   ],
   "source": [
    "print(data.isnull().sum())\n",
    "print(data.duplicated().sum())\n",
    "data=data.drop_duplicates()\n",
    "print(data.duplicated().sum())"
   ]
  },
  {
   "cell_type": "code",
   "execution_count": 34,
   "id": "820d7c00",
   "metadata": {},
   "outputs": [
    {
     "name": "stdout",
     "output_type": "stream",
     "text": [
      "         ID  Price  Levy Manufacturer    Model  Prod. year   Category  \\\n",
      "0  45654403  13328  1399        LEXUS   RX 450        2010       Jeep   \n",
      "1  44731507  16621  1018    CHEVROLET  Equinox        2011       Jeep   \n",
      "2  45774419   8467     -        HONDA      FIT        2006  Hatchback   \n",
      "3  45769185   3607   862         FORD   Escape        2011       Jeep   \n",
      "4  45809263  11726   446        HONDA      FIT        2014  Hatchback   \n",
      "\n",
      "  Leather interior Fuel type Engine volume   Mileage  Cylinders Gear box type  \\\n",
      "0              Yes    Hybrid           3.5  186005.0        6.0     Automatic   \n",
      "1               No    Petrol             3  192000.0        6.0     Tiptronic   \n",
      "2               No    Petrol           1.3  200000.0        4.0      Variator   \n",
      "3              Yes    Hybrid           2.5  168966.0        4.0     Automatic   \n",
      "4              Yes    Petrol           1.3   91901.0        4.0     Automatic   \n",
      "\n",
      "  Drive wheels   Doors             Wheel   Color  Airbags  \n",
      "0          4x4  04-May        Left wheel  Silver       12  \n",
      "1          4x4  04-May        Left wheel   Black        8  \n",
      "2        Front  04-May  Right-hand drive   Black        2  \n",
      "3          4x4  04-May        Left wheel   White        0  \n",
      "4        Front  04-May        Left wheel  Silver        4  \n"
     ]
    }
   ],
   "source": [
    "data['Mileage']=data['Mileage'].str.replace('km','').str.replace(',','').astype(float)\n",
    "print(data.head())\n",
    "# print(data['Mileage'].dtype)\n",
    "# print(data['Engine'].dtype)"
   ]
  },
  {
   "cell_type": "code",
   "execution_count": 36,
   "id": "1cf3b964",
   "metadata": {},
   "outputs": [
    {
     "name": "stdout",
     "output_type": "stream",
     "text": [
      "float64\n",
      "<class 'pandas.core.frame.DataFrame'>\n",
      "Index: 18924 entries, 0 to 19236\n",
      "Data columns (total 18 columns):\n",
      " #   Column            Non-Null Count  Dtype  \n",
      "---  ------            --------------  -----  \n",
      " 0   ID                18924 non-null  int64  \n",
      " 1   Price             18924 non-null  int64  \n",
      " 2   Levy              18924 non-null  object \n",
      " 3   Manufacturer      18924 non-null  object \n",
      " 4   Model             18924 non-null  object \n",
      " 5   Prod. year        18924 non-null  int64  \n",
      " 6   Category          18924 non-null  object \n",
      " 7   Leather interior  18924 non-null  object \n",
      " 8   Fuel type         18924 non-null  object \n",
      " 9   Engine volume     18924 non-null  object \n",
      " 10  Mileage           18924 non-null  float64\n",
      " 11  Cylinders         18924 non-null  float64\n",
      " 12  Gear box type     18924 non-null  object \n",
      " 13  Drive wheels      18924 non-null  object \n",
      " 14  Doors             18924 non-null  object \n",
      " 15  Wheel             18924 non-null  object \n",
      " 16  Color             18924 non-null  object \n",
      " 17  Airbags           18924 non-null  int64  \n",
      "dtypes: float64(2), int64(4), object(12)\n",
      "memory usage: 2.7+ MB\n",
      "None\n"
     ]
    }
   ],
   "source": [
    "print(data['Mileage'].dtype)\n",
    "print(data.info ())"
   ]
  },
  {
   "cell_type": "code",
   "execution_count": null,
   "id": "50c0ccef",
   "metadata": {},
   "outputs": [],
   "source": [
    "data['Leather interior']=data['Leather interior'].map({'Yes':1,'No':0})\n",
    "data=data.drop('ID',axis=1)"
   ]
  },
  {
   "cell_type": "code",
   "execution_count": 44,
   "id": "f1c208fd",
   "metadata": {},
   "outputs": [],
   "source": [
    "data['Levy']=data['Levy'].replace('-',0).astype(float)\n"
   ]
  },
  {
   "cell_type": "code",
   "execution_count": 48,
   "id": "8776c388",
   "metadata": {},
   "outputs": [],
   "source": [
    "data['Age']=2025-data['Prod. year']\n",
    "data.drop('Prod. year',axis=1,inplace=True)"
   ]
  },
  {
   "cell_type": "code",
   "execution_count": 50,
   "id": "cd3264a5",
   "metadata": {},
   "outputs": [],
   "source": [
    "data['Engine volume']=data['Engine volume'].str.replace(r'[^\\d.]', '', regex=True).astype(float)"
   ]
  },
  {
   "cell_type": "code",
   "execution_count": 53,
   "id": "531d7bb0",
   "metadata": {},
   "outputs": [
    {
     "name": "stdout",
     "output_type": "stream",
     "text": [
      "   Price    Levy Manufacturer     Model   Category  Leather interior  \\\n",
      "0  13328  1399.0        LEXUS    RX 450       Jeep               NaN   \n",
      "1  16621  1018.0    CHEVROLET   Equinox       Jeep               NaN   \n",
      "2   8467     0.0        HONDA       FIT  Hatchback               NaN   \n",
      "3   3607   862.0         FORD    Escape       Jeep               NaN   \n",
      "4  11726   446.0        HONDA       FIT  Hatchback               NaN   \n",
      "5  39493   891.0      HYUNDAI  Santa FE       Jeep               NaN   \n",
      "6   1803   761.0       TOYOTA     Prius  Hatchback               NaN   \n",
      "7    549   751.0      HYUNDAI    Sonata      Sedan               NaN   \n",
      "8   1098   394.0       TOYOTA     Camry      Sedan               NaN   \n",
      "9  26657     0.0        LEXUS    RX 350       Jeep               NaN   \n",
      "\n",
      "  Fuel type  Engine volume   Mileage  Cylinders Gear box type Drive wheels  \\\n",
      "0    Hybrid            3.5  186005.0        6.0     Automatic          4x4   \n",
      "1    Petrol            3.0  192000.0        6.0     Tiptronic          4x4   \n",
      "2    Petrol            1.3  200000.0        4.0      Variator        Front   \n",
      "3    Hybrid            2.5  168966.0        4.0     Automatic          4x4   \n",
      "4    Petrol            1.3   91901.0        4.0     Automatic        Front   \n",
      "5    Diesel            2.0  160931.0        4.0     Automatic        Front   \n",
      "6    Hybrid            1.8  258909.0        4.0     Automatic        Front   \n",
      "7    Petrol            2.4  216118.0        4.0     Automatic        Front   \n",
      "8    Hybrid            2.5  398069.0        4.0     Automatic        Front   \n",
      "9    Petrol            3.5  128500.0        6.0     Automatic          4x4   \n",
      "\n",
      "    Doors             Wheel   Color  Airbags  Age  \n",
      "0  04-May        Left wheel  Silver       12   15  \n",
      "1  04-May        Left wheel   Black        8   14  \n",
      "2  04-May  Right-hand drive   Black        2   19  \n",
      "3  04-May        Left wheel   White        0   14  \n",
      "4  04-May        Left wheel  Silver        4   11  \n",
      "5  04-May        Left wheel   White        4    9  \n",
      "6  04-May        Left wheel   White       12   15  \n",
      "7  04-May        Left wheel    Grey       12   12  \n",
      "8  04-May        Left wheel   Black       12   11  \n",
      "9  04-May        Left wheel  Silver       12   18  \n"
     ]
    }
   ],
   "source": [
    "print(data.head(10))"
   ]
  },
  {
   "cell_type": "code",
   "execution_count": 55,
   "id": "8c6c192c",
   "metadata": {},
   "outputs": [],
   "source": [
    "data['Doors']=data['Doors'].replace(r'[^\\d.]','',regex=True).astype(int)"
   ]
  },
  {
   "cell_type": "code",
   "execution_count": null,
   "id": "dd99f781",
   "metadata": {},
   "outputs": [
    {
     "name": "stdout",
     "output_type": "stream",
     "text": [
      "<class 'pandas.core.frame.DataFrame'>\n",
      "Index: 18924 entries, 0 to 19236\n",
      "Data columns (total 18 columns):\n",
      " #   Column            Non-Null Count  Dtype  \n",
      "---  ------            --------------  -----  \n",
      " 0   Price             18924 non-null  int64  \n",
      " 1   Levy              18924 non-null  float64\n",
      " 2   Manufacturer      18924 non-null  object \n",
      " 3   Model             18924 non-null  object \n",
      " 4   Category          18924 non-null  object \n",
      " 5   Leather interior  18924 non-null  float64\n",
      " 6   Fuel type         18924 non-null  object \n",
      " 7   Engine volume     18924 non-null  float64\n",
      " 8   Mileage           18924 non-null  float64\n",
      " 9   Cylinders         18924 non-null  float64\n",
      " 10  Gear box type     18924 non-null  object \n",
      " 11  Drive wheels      18924 non-null  object \n",
      " 12  Doors             18924 non-null  int64  \n",
      " 13  Wheel             18924 non-null  object \n",
      " 14  Color             18924 non-null  object \n",
      " 15  Airbags           18924 non-null  int64  \n",
      " 16  Age               18924 non-null  int64  \n",
      " 17  leather_interior  18924 non-null  int64  \n",
      "dtypes: float64(5), int64(5), object(8)\n",
      "memory usage: 3.2+ MB\n",
      "None\n",
      "       Price    Levy   Manufacturer    Model   Category  Leather interior  \\\n",
      "0      13328  1399.0          LEXUS   RX 450       Jeep               0.0   \n",
      "1      16621  1018.0      CHEVROLET  Equinox       Jeep               0.0   \n",
      "2       8467     0.0          HONDA      FIT  Hatchback               0.0   \n",
      "3       3607   862.0           FORD   Escape       Jeep               0.0   \n",
      "4      11726   446.0          HONDA      FIT  Hatchback               0.0   \n",
      "...      ...     ...            ...      ...        ...               ...   \n",
      "19232   8467     0.0  MERCEDES-BENZ  CLK 200      Coupe               0.0   \n",
      "19233  15681   831.0        HYUNDAI   Sonata      Sedan               0.0   \n",
      "19234  26108   836.0        HYUNDAI   Tucson       Jeep               0.0   \n",
      "19235   5331  1288.0      CHEVROLET  Captiva       Jeep               0.0   \n",
      "19236    470   753.0        HYUNDAI   Sonata      Sedan               0.0   \n",
      "\n",
      "      Fuel type  Engine volume   Mileage  Cylinders Gear box type  \\\n",
      "0        Hybrid            3.5  186005.0        6.0     Automatic   \n",
      "1        Petrol            3.0  192000.0        6.0     Tiptronic   \n",
      "2        Petrol            1.3  200000.0        4.0      Variator   \n",
      "3        Hybrid            2.5  168966.0        4.0     Automatic   \n",
      "4        Petrol            1.3   91901.0        4.0     Automatic   \n",
      "...         ...            ...       ...        ...           ...   \n",
      "19232       CNG            2.0  300000.0        4.0        Manual   \n",
      "19233    Petrol            2.4  161600.0        4.0     Tiptronic   \n",
      "19234    Diesel            2.0  116365.0        4.0     Automatic   \n",
      "19235    Diesel            2.0   51258.0        4.0     Automatic   \n",
      "19236    Hybrid            2.4  186923.0        4.0     Automatic   \n",
      "\n",
      "      Drive wheels  Doors             Wheel   Color  Airbags  Age  \\\n",
      "0              4x4      4        Left wheel  Silver       12   15   \n",
      "1              4x4      4        Left wheel   Black        8   14   \n",
      "2            Front      4  Right-hand drive   Black        2   19   \n",
      "3              4x4      4        Left wheel   White        0   14   \n",
      "4            Front      4        Left wheel  Silver        4   11   \n",
      "...            ...    ...               ...     ...      ...  ...   \n",
      "19232         Rear      2        Left wheel  Silver        5   26   \n",
      "19233        Front      4        Left wheel     Red        8   14   \n",
      "19234        Front      4        Left wheel    Grey        4   15   \n",
      "19235        Front      4        Left wheel   Black        4   18   \n",
      "19236        Front      4        Left wheel   White       12   13   \n",
      "\n",
      "       leather_interior  \n",
      "0                     0  \n",
      "1                     0  \n",
      "2                     0  \n",
      "3                     0  \n",
      "4                     0  \n",
      "...                 ...  \n",
      "19232                 0  \n",
      "19233                 0  \n",
      "19234                 0  \n",
      "19235                 0  \n",
      "19236                 0  \n",
      "\n",
      "[18924 rows x 18 columns]\n"
     ]
    }
   ],
   "source": [
    "print(data.info())\n",
    "print(data) "
   ]
  },
  {
   "cell_type": "code",
   "execution_count": 65,
   "id": "313d4adf",
   "metadata": {},
   "outputs": [],
   "source": [
    "data['Leather interior'] = data['Leather interior'].map({'Yes':1, 'No':0})\n",
    "data['Leather interior'] = data['Leather interior'].fillna(0)\n"
   ]
  },
  {
   "cell_type": "code",
   "execution_count": 66,
   "id": "4d54d93f",
   "metadata": {},
   "outputs": [
    {
     "name": "stdout",
     "output_type": "stream",
     "text": [
      "<class 'pandas.core.frame.DataFrame'>\n",
      "Index: 18924 entries, 0 to 19236\n",
      "Data columns (total 18 columns):\n",
      " #   Column            Non-Null Count  Dtype  \n",
      "---  ------            --------------  -----  \n",
      " 0   Price             18924 non-null  int64  \n",
      " 1   Levy              18924 non-null  float64\n",
      " 2   Manufacturer      18924 non-null  object \n",
      " 3   Model             18924 non-null  object \n",
      " 4   Category          18924 non-null  object \n",
      " 5   Leather interior  18924 non-null  float64\n",
      " 6   Fuel type         18924 non-null  object \n",
      " 7   Engine volume     18924 non-null  float64\n",
      " 8   Mileage           18924 non-null  float64\n",
      " 9   Cylinders         18924 non-null  float64\n",
      " 10  Gear box type     18924 non-null  object \n",
      " 11  Drive wheels      18924 non-null  object \n",
      " 12  Doors             18924 non-null  int64  \n",
      " 13  Wheel             18924 non-null  object \n",
      " 14  Color             18924 non-null  object \n",
      " 15  Airbags           18924 non-null  int64  \n",
      " 16  Age               18924 non-null  int64  \n",
      " 17  leather_interior  18924 non-null  int64  \n",
      "dtypes: float64(5), int64(5), object(8)\n",
      "memory usage: 3.2+ MB\n",
      "None\n",
      "       Price    Levy   Manufacturer    Model   Category  Leather interior  \\\n",
      "0      13328  1399.0          LEXUS   RX 450       Jeep               0.0   \n",
      "1      16621  1018.0      CHEVROLET  Equinox       Jeep               0.0   \n",
      "2       8467     0.0          HONDA      FIT  Hatchback               0.0   \n",
      "3       3607   862.0           FORD   Escape       Jeep               0.0   \n",
      "4      11726   446.0          HONDA      FIT  Hatchback               0.0   \n",
      "...      ...     ...            ...      ...        ...               ...   \n",
      "19232   8467     0.0  MERCEDES-BENZ  CLK 200      Coupe               0.0   \n",
      "19233  15681   831.0        HYUNDAI   Sonata      Sedan               0.0   \n",
      "19234  26108   836.0        HYUNDAI   Tucson       Jeep               0.0   \n",
      "19235   5331  1288.0      CHEVROLET  Captiva       Jeep               0.0   \n",
      "19236    470   753.0        HYUNDAI   Sonata      Sedan               0.0   \n",
      "\n",
      "      Fuel type  Engine volume   Mileage  Cylinders Gear box type  \\\n",
      "0        Hybrid            3.5  186005.0        6.0     Automatic   \n",
      "1        Petrol            3.0  192000.0        6.0     Tiptronic   \n",
      "2        Petrol            1.3  200000.0        4.0      Variator   \n",
      "3        Hybrid            2.5  168966.0        4.0     Automatic   \n",
      "4        Petrol            1.3   91901.0        4.0     Automatic   \n",
      "...         ...            ...       ...        ...           ...   \n",
      "19232       CNG            2.0  300000.0        4.0        Manual   \n",
      "19233    Petrol            2.4  161600.0        4.0     Tiptronic   \n",
      "19234    Diesel            2.0  116365.0        4.0     Automatic   \n",
      "19235    Diesel            2.0   51258.0        4.0     Automatic   \n",
      "19236    Hybrid            2.4  186923.0        4.0     Automatic   \n",
      "\n",
      "      Drive wheels  Doors             Wheel   Color  Airbags  Age  \\\n",
      "0              4x4      4        Left wheel  Silver       12   15   \n",
      "1              4x4      4        Left wheel   Black        8   14   \n",
      "2            Front      4  Right-hand drive   Black        2   19   \n",
      "3              4x4      4        Left wheel   White        0   14   \n",
      "4            Front      4        Left wheel  Silver        4   11   \n",
      "...            ...    ...               ...     ...      ...  ...   \n",
      "19232         Rear      2        Left wheel  Silver        5   26   \n",
      "19233        Front      4        Left wheel     Red        8   14   \n",
      "19234        Front      4        Left wheel    Grey        4   15   \n",
      "19235        Front      4        Left wheel   Black        4   18   \n",
      "19236        Front      4        Left wheel   White       12   13   \n",
      "\n",
      "       leather_interior  \n",
      "0                     0  \n",
      "1                     0  \n",
      "2                     0  \n",
      "3                     0  \n",
      "4                     0  \n",
      "...                 ...  \n",
      "19232                 0  \n",
      "19233                 0  \n",
      "19234                 0  \n",
      "19235                 0  \n",
      "19236                 0  \n",
      "\n",
      "[18924 rows x 18 columns]\n"
     ]
    }
   ],
   "source": [
    "print(data.info())\n",
    "print(data)"
   ]
  }
 ],
 "metadata": {
  "kernelspec": {
   "display_name": "Python 3",
   "language": "python",
   "name": "python3"
  },
  "language_info": {
   "codemirror_mode": {
    "name": "ipython",
    "version": 3
   },
   "file_extension": ".py",
   "mimetype": "text/x-python",
   "name": "python",
   "nbconvert_exporter": "python",
   "pygments_lexer": "ipython3",
   "version": "3.11.4"
  }
 },
 "nbformat": 4,
 "nbformat_minor": 5
}
